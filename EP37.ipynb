{
  "nbformat": 4,
  "nbformat_minor": 0,
  "metadata": {
    "colab": {
      "name": "EP37.ipynb",
      "provenance": [],
      "authorship_tag": "ABX9TyP7z6g9n5nVZCo/N03WllZP",
      "include_colab_link": true
    },
    "kernelspec": {
      "name": "python3",
      "display_name": "Python 3"
    },
    "language_info": {
      "name": "python"
    }
  },
  "cells": [
    {
      "cell_type": "markdown",
      "metadata": {
        "id": "view-in-github",
        "colab_type": "text"
      },
      "source": [
        "<a href=\"https://colab.research.google.com/github/rsurapol/Python-for-Numerical-Methods-for-Engineer/blob/master/EP37.ipynb\" target=\"_parent\"><img src=\"https://colab.research.google.com/assets/colab-badge.svg\" alt=\"Open In Colab\"/></a>"
      ]
    },
    {
      "cell_type": "code",
      "execution_count": null,
      "metadata": {
        "id": "aL2QVkAwqiyM"
      },
      "outputs": [],
      "source": [
        "\"\"\"\n",
        "ตอนที่ 37 โปรแกรมคอมพิวเตอร์สำหรับระเบียบวิธีฟังก์ชันพหุนามของลากรองจ์\n",
        "https://trinket.io/python/bccab55640\n",
        "\n",
        "\"\"\"\n",
        "from math import *\n",
        "import operator, functools\n",
        "\n",
        "def lagrange_interpolation(x, y, u):\n",
        "  '''\n",
        "  Parameters\n",
        "  ----------\n",
        "  x : list of floats\n",
        "  y : list of floats\n",
        "  u : float\n",
        "  \n",
        "  Returns\n",
        "  -------  \n",
        "  float\n",
        "      an estimate at the point u\n",
        "  '''\n",
        "  r = range ( len(y) )\n",
        "  a =       [ y[i]/product( x[i]-x[j] for j in r if j != i ) for i in r ]\n",
        "  return sum( a[i]*product( [u   -x[j] for j in r if j != i] ) for i in r )\n",
        "\n",
        "'''\n",
        "#shorter way to write a product function\n",
        "import operator, functools\n",
        "def product(a): return functools.reduce(operator.mul, a, 1)\n",
        "\n",
        "# original version\n",
        "a =       [y[i]/product(x[i]-x[j] for j in range(len(y)) if j != i) for i in range(len(y))]\n",
        "return sum(a[i]*product(u   -x[j] for j in range(len(y)) if j != i) for i in range(len(y)))\n",
        "'''\n",
        "\n",
        "def product(a): return functools.reduce(operator.mul, a, 1)\n",
        "\"\"\"\n",
        "def product(a): \n",
        "  p = 1\n",
        "  for i in a: p *= i\n",
        "  return p\n",
        "\"\"\"\n",
        "\n",
        "if __name__ == '__main__':\n",
        "\n",
        "  x = [1.0000, 2.5000, 4.0000, 5.5000, 7.0000]\n",
        "  y = [0.0000, 0.9700, 1.3900, 1.7000, 1.9500]\n",
        "  u = 4.0\n",
        "\n",
        "  estim = lagrange_interpolation(x, y, u)\n",
        "\n",
        "  exact = log(u)\n",
        "  print(\"\\n\\n\")\n",
        "  print(\"%.4f , %.4f\" %(estim, exact))\n",
        "\n",
        "# author by : Worasait Suwannik\n",
        "# date   : Aug 2015\n",
        "# rewrite by : Surapol Rochanapratishtha\n",
        "# Date : May 2022"
      ]
    }
  ]
}