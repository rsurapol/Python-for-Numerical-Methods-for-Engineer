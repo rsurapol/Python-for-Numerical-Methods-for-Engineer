{
  "nbformat": 4,
  "nbformat_minor": 0,
  "metadata": {
    "colab": {
      "name": "MidTerm-Examination.ipynb",
      "provenance": [],
      "authorship_tag": "ABX9TyPvt26RAGMc7+qKnMFrp/1R",
      "include_colab_link": true
    },
    "kernelspec": {
      "name": "python3",
      "display_name": "Python 3"
    }
  },
  "cells": [
    {
      "cell_type": "markdown",
      "metadata": {
        "id": "view-in-github",
        "colab_type": "text"
      },
      "source": [
        "<a href=\"https://colab.research.google.com/github/rsurapol/Python-for-Numerical-Methods-for-Engineer/blob/master/MidTerm_Examination.ipynb\" target=\"_parent\"><img src=\"https://colab.research.google.com/assets/colab-badge.svg\" alt=\"Open In Colab\"/></a>"
      ]
    },
    {
      "cell_type": "markdown",
      "metadata": {
        "id": "RYSP3IzYAoen",
        "colab_type": "text"
      },
      "source": [
        "#Midterm-Examination"
      ]
    },
    {
      "cell_type": "code",
      "metadata": {
        "id": "e5qhDZtNAnIT",
        "colab_type": "code",
        "colab": {
          "base_uri": "https://localhost:8080/",
          "height": 188
        },
        "outputId": "71150657-314e-4798-e43a-faf4ef94ea90"
      },
      "source": [
        "\"\"\"กำหนดฟังก์ชัน f(x)=25x^3-6x^2+7x-88 \n",
        "จงหาค่าประมาณ กำหนด x=8 คำนวณหาร้อยละของค่าคลาดเคลื่อนสัมพัทธ์เทียบกับค่าจริง \n",
        "โดยใช้อนุกรมเทย์เลอร์กำลัง 0 ถึง 3 รอบจุด 3\"\"\"\n",
        "\n",
        "import sympy as sym \n",
        "import math\n",
        "\n",
        "# Define symbol กำหนด สัญลักษณ์ ในสมการ ตัว x\n",
        "x = sym.Symbol('x')\n",
        "# f(x) = 25x^3-6x^2+7x-88\n",
        "\n",
        "def fn(x):\n",
        "  return 25*(x**3) - 6*(x**2) + 7*x - 88\n",
        "\n",
        "def fprime(f,x):\n",
        "    return sym.diff(f,x)\n",
        "\n",
        "def Hl():\n",
        "  txt=\"=\"\n",
        "  print(txt*40)\n",
        " \n",
        "def et(xt,xaprox):\n",
        "  return abs((xt-xaprox)/xt)*100\n",
        "\n",
        "if __name__ == '__main__':\n",
        "  #========Main===========\n",
        "  aa = 90\n",
        "  xx = 100\n",
        "  n =3\n",
        "  Hl()\n",
        "  print(\"โจทย์ : \",fn(x))\n",
        "  print(\"x = {} และ a = {} n ตั้งแต่ 0 ถึง {}\".format(xx,aa,n))\n",
        "  #===== ส่วนแสดงสมการ อนุพันธ์ ในรูปฟอร์มติดตัวแปร x\n",
        "  fprime1 = fprime(fn(x),x)\n",
        "  fprime2 = fprime(fprime1,x)\n",
        "  fprime3 = fprime(fprime2,x)\n",
        "  #---------------------------------------\n",
        "  Hl()\n",
        "  #======ส่วนตัวแปรเก็บค่าผลการหาอนุพันธ์\n",
        "  DerivativeOfFn = sym.lambdify((x),fn(x)) #โจทย์\n",
        "  DerivativeOfFprime1 = sym.lambdify((x),fprime1) #diff ครั้งที่ ๑ โจทย์\n",
        "  DerivativeOfFprime2 = sym.lambdify((x),fprime2) #diff ครั้งที่ ๒ โจทย์\n",
        "  DerivativeOfFprime3 = sym.lambdify((x),fprime3) #diff คร้้งที่ ๓ โจทย์\n",
        "  #---------------------------------------\n",
        "\n",
        "  #f(2)/0!+f'(2)/1!+f''(2)/2!+f'''(2)/3!\n",
        "  #====ส่วนการคำนวณหาค่า อนุกรมเทย์เลอร์ ในแต่ละพจน์รวมกัน\n",
        "  Taylor0=((DerivativeOfFn(aa)/math.factorial(0))*(xx-aa)**0)\n",
        "  Taylor1=(DerivativeOfFprime1(aa)/math.factorial(1)*(xx-aa)**1)+Taylor0\n",
        "  Taylor2=(DerivativeOfFprime2(aa)/math.factorial(2)*(xx-aa)**2)+Taylor1\n",
        "  Taylor3=(DerivativeOfFprime3(aa)/math.factorial(3)*(xx-aa)**3)+Taylor2\n",
        "\n",
        "  #===ส่วนแสดงผล การคำนวณ ตามโจทย์\n",
        "  print(\"ค่าจริง เมื่อ x={} : {}\".format(xx,DerivativeOfFn(xx)))\n",
        "  print(\"อนุกรมเทย์เลอร์ กำลัง 0 (n=0) :{:0.2f} ค่าผิดพลาด et : {:0.5f} %\".format(Taylor0,et(DerivativeOfFn(xx),Taylor0)))\n",
        "  print(\"อนุกรมเทย์เลอร์ กำลัง 1 (n=1) :{:0.2f} ค่าผิดพลาด et : {:0.5f} %\".format(Taylor1,et(DerivativeOfFn(xx),Taylor1)))\n",
        "  print(\"อนุกรมเทย์เลอร์ กำลัง 2 (n=2) :{:0.2f} ค่าผิดพลาด et : {:0.5f} %\".format(Taylor2,et(DerivativeOfFn(xx),Taylor2)))\n",
        "  print(\"อนุกรมเทย์เลอร์ กำลัง 3 (n=3) :{:0.2f} ค่าผิดพลาด et : {:0.5f} %\".format(Taylor3,et(DerivativeOfFn(xx),Taylor3)))\n",
        "  Hl()"
      ],
      "execution_count": 7,
      "outputs": [
        {
          "output_type": "stream",
          "text": [
            "========================================\n",
            "โจทย์ :  25*x**3 - 6*x**2 + 7*x - 88\n",
            "x = 100 และ a = 90 n ตั้งแต่ 0 ถึง 3\n",
            "========================================\n",
            "ค่าจริง เมื่อ x=100 : 24940612\n",
            "อนุกรมเทย์เลอร์ กำลัง 0 (n=0) :18176942.00 ค่าผิดพลาด et : 27.11910 %\n",
            "อนุกรมเทย์เลอร์ กำลัง 1 (n=1) :24241212.00 ค่าผิดพลาด et : 2.80426 %\n",
            "อนุกรมเทย์เลอร์ กำลัง 2 (n=2) :24915612.00 ค่าผิดพลาด et : 0.10024 %\n",
            "อนุกรมเทย์เลอร์ กำลัง 3 (n=3) :24940612.00 ค่าผิดพลาด et : 0.00000 %\n",
            "========================================\n"
          ],
          "name": "stdout"
        }
      ]
    },
    {
      "cell_type": "code",
      "metadata": {
        "id": "MIPQfN3zCQN4",
        "colab_type": "code",
        "colab": {
          "base_uri": "https://localhost:8080/",
          "height": 239
        },
        "outputId": "59e022e0-0dd1-4eae-8e66-e0d816b65dd6"
      },
      "source": [
        "\"\"\"จงหาค่ารากที่สองที่เป็นบวกของ 11 ให้มีความถูกต้องถึงทศนิยมตำแหน่งที่สาม\n",
        "โดยวิธี นิวตันราฟสัน กำหนด x0=3\"\"\"\n",
        "\n",
        "'''วิธีนิวตันราฟสัน \n",
        "อัลกอริธึม\n",
        "๑. เลือกค่าเริ่มต้น x0\n",
        "๒. xi+1 = xi - (fn(xi)/fprime(xi)) เมื่อ i = 0,1,...\n",
        "๓. หาค่าร้อยละค่าคลาดเคลื่อนประมาณ ea = abs((xi+1 - xi)/xi+1) * 100\n",
        "๔. ทำซ้ำ ข้อ ๒) จนกว่า fn(xi+1)=0 หรือ ea < es'''\n",
        "\n",
        "# Import Library Files\n",
        "import sympy as sym\n",
        "import math\n",
        "\n",
        "# Functon by User\n",
        "x = sym.Symbol('x')\n",
        "\n",
        "def fn(x):\n",
        "  return (x**2)-11\n",
        "\n",
        "def fprime(f,x):\n",
        "  return sym.diff(f,x)\n",
        "\n",
        "if __name__ == '__main__':\n",
        "  #============Main============\n",
        "  xn = list()\n",
        "  fxn = list()\n",
        "  fpn = list()\n",
        "  ea = list()\n",
        "\n",
        "  i = 0\n",
        "\n",
        "  # ค่าคลาดเคลื่อนยินยอม มีความถูกต้องตำแหน่งที่ 3 ดังนั้น n=3\n",
        "  n = 3\n",
        "  es = 0.5 * 10**(2-n)\n",
        "  print(\"es = {:0.4f} %\".format(es))\n",
        "  print(\"โจทย์กำหนด f(x) : {}\".format(fn(x)))\n",
        "  print(\"=\"*50)\n",
        "  #xnv = float(input(\"Enter x0 : \"))\n",
        "  xn.append(3) #xn[i=0]\n",
        "  print(\"=\"*50)\n",
        "  print(\"{0:16}{1:16}{2:16}{3:16}{4:16}\".format(\"รอบที่ i\",\"xi\",\"ea(%)\",\"f(xi)\",\"f '(xi)\"))\n",
        "  print(\"=\"*50)\n",
        "\n",
        "  while True:\n",
        "    DerivativeOfFn = sym.lambdify((x),fn(x))\n",
        "    fnxv = DerivativeOfFn(xn[i])\n",
        "    fxn.append(fnxv)\n",
        "    #fprime1=fprime(fn(x),x)\n",
        "    DerivativeOfFprime1 = sym.lambdify((x),fprime(fn(x),x))\n",
        "    fpnv = DerivativeOfFprime1(xn[i])\n",
        "    fpn.append(fpnv)\n",
        "\n",
        "    xnext = xn[i] - (fxn[i]/fpn[i])\n",
        "\n",
        "    xn.append(xnext)\n",
        "\n",
        "    eav = abs((xn[i+1] - xn[i])/xn[i+1])*100\n",
        "    ea.append(eav)\n",
        "    print(\"{0}{1:16.4f}{2:16.4f}{3:16.4f}{4:16.4f}\".format(i+1,xn[i],ea[i],fxn[i],fpn[i]))\n",
        "\n",
        "    if ea[i]<es:\n",
        "      break\n",
        "    i = i +1\n",
        "\n",
        "\n",
        "  #ส่วนแสดงผลสรุปคำตอบผลเฉลย\n",
        "  print(\"=\"*50)\n",
        "  print(\"\\nค่ารากของสมการ : {} คือ {:0.4f} เมื่อ {:0.4f} < {}\".format(fn(x),xn[i],ea[i],es))\n",
        "  print(\"=\"*50)\n"
      ],
      "execution_count": 8,
      "outputs": [
        {
          "output_type": "stream",
          "text": [
            "es = 0.0500 %\n",
            "โจทย์กำหนด f(x) : x**2 - 11\n",
            "==================================================\n",
            "==================================================\n",
            "รอบที่ i        xi              ea(%)           f(xi)           f '(xi)         \n",
            "==================================================\n",
            "1          3.0000         10.0000         -2.0000          6.0000\n",
            "2          3.3333          0.5025          0.1111          6.6667\n",
            "3          3.3167          0.0013          0.0003          6.6333\n",
            "==================================================\n",
            "\n",
            "ค่ารากของสมการ : x**2 - 11 คือ 3.3167 เมื่อ 0.0013 < 0.05\n",
            "==================================================\n"
          ],
          "name": "stdout"
        }
      ]
    },
    {
      "cell_type": "code",
      "metadata": {
        "id": "IsNaNBiYH1rn",
        "colab_type": "code",
        "colab": {}
      },
      "source": [
        "\"\"\"จงหาค่ารากที่สองที่เป็นบวกของ 11 \n",
        "ให้มีความถูกต้องถึงทศนิยมตำแหน่งที่สาม\n",
        "โดยวิธี ซีแคนท์ กำหนด x0=3, x1=4\"\"\"\n",
        "\n"
      ],
      "execution_count": 0,
      "outputs": []
    }
  ]
}