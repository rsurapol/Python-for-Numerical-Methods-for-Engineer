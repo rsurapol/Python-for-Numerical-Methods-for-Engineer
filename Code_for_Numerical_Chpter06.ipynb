{
  "nbformat": 4,
  "nbformat_minor": 0,
  "metadata": {
    "colab": {
      "provenance": [],
      "authorship_tag": "ABX9TyMPVhSKmkH8N/uOzw+dbDZl",
      "include_colab_link": true
    },
    "kernelspec": {
      "name": "python3",
      "display_name": "Python 3"
    },
    "language_info": {
      "name": "python"
    }
  },
  "cells": [
    {
      "cell_type": "markdown",
      "metadata": {
        "id": "view-in-github",
        "colab_type": "text"
      },
      "source": [
        "<a href=\"https://colab.research.google.com/github/rsurapol/Python-for-Numerical-Methods-for-Engineer/blob/master/Code_for_Numerical_Chpter06.ipynb\" target=\"_parent\"><img src=\"https://colab.research.google.com/assets/colab-badge.svg\" alt=\"Open In Colab\"/></a>"
      ]
    },
    {
      "cell_type": "code",
      "execution_count": null,
      "metadata": {
        "colab": {
          "base_uri": "https://localhost:8080/"
        },
        "id": "47VksRU6kwqL",
        "outputId": "df58d9d1-b9c7-4a92-e200-155f65685211"
      },
      "outputs": [
        {
          "output_type": "stream",
          "name": "stdout",
          "text": [
            "5.806693458625387\n",
            "5.090998257031187\n",
            "5.448845857828287\n"
          ]
        }
      ],
      "source": [
        "\"\"\"\n",
        "ตอนที่ 50 โปรแกรมคอมพิวเตอร์สำหรับการประมาณค่าอนุพันธ์อันดับหนึ่งและอันดับสอง\n",
        "https://trinket.io/python/c63ee93205\n",
        "\n",
        "\"\"\"\n",
        "\n",
        "def forward_difference(f, x, h):\n",
        "  '''\n",
        "  Parameters\n",
        "  ----------\n",
        "  f : function\n",
        "  x : number\n",
        "  h : number\n",
        "\n",
        "  Returns\n",
        "  -------\n",
        "  number\n",
        "  '''\n",
        "  return (f(x+h) - f(x)) / h\n",
        "\n",
        "def backward_difference(f, x, h):\n",
        "  '''\n",
        "  Parameters\n",
        "  ----------\n",
        "  f : function\n",
        "  x : number\n",
        "  h : number\n",
        "\n",
        "  Returns\n",
        "  -------\n",
        "  number\n",
        "  '''\n",
        "  return (f(x) - f(x-h)) / h\n",
        "\n",
        "def central_difference(f, x, h):\n",
        "  '''\n",
        "  Parameters\n",
        "  ----------\n",
        "  f : function\n",
        "  x : number\n",
        "  h : number\n",
        "\n",
        "  Returns\n",
        "  -------\n",
        "  number\n",
        "  '''\n",
        "  return (f(x+h) - f(x-h)) / (2*h)\n",
        "\n",
        "\n",
        "if __name__ == '__main__':\n",
        "  from math import sin\n",
        "  f = lambda x : x * sin(x)\n",
        "  print(forward_difference (f, 6, 0.2))\n",
        "  print(backward_difference(f, 6, 0.2))\n",
        "  print(central_difference (f, 6, 0.2))\n",
        "\n",
        "# author: Worasait Suwannik\n",
        "# date: aug 2015\n",
        "# Rewrite: Surapol Rochanapratishtha\n",
        "# Date: May 2022"
      ]
    },
    {
      "cell_type": "code",
      "source": [
        "\"\"\"\n",
        "ตอนที่ 53 ช่วงที่ 1 โปรแกรมคอมพิวเตอร์สำหรับระเบียบวิธีสี่เหลี่ยมคางหมู\n",
        "https://trinket.io/python/e6309a5561\n",
        "\n",
        "\"\"\"\n",
        "\n",
        "def trapezoidal(f, a, b, n):\n",
        "  '''\n",
        "  Parameters\n",
        "  ----------\n",
        "  f : function\n",
        "  a : number : start\n",
        "  b : number : stop\n",
        "  n : integer\n",
        "\n",
        "  Returns\n",
        "  -------\n",
        "  float\n",
        "  '''\n",
        "  h = (b - a) / n\n",
        "  s = sum(f(a + i*h) for i in range(1, n))\n",
        "  return (f(a) + 2*s + f(b)) * h / 2\n",
        "\n",
        "if __name__ == '__main__':\n",
        "  from math import cos, pi\n",
        "  f = lambda x : cos(x)\n",
        "  a = 0\n",
        "  b = pi / 2\n",
        "  n = 20\n",
        "  print(trapezoidal(f, a, b, n))\n",
        "  # aj Pramote p283\n",
        "  #print(simpson(lambda x : 2*x**3 - 5*x**2 + 3*x + 1, 0, 2, 10))  # 2.67\n",
        "  # aj Pramote p284\n",
        "  #for n in [2,4,6,8,10,20]:\n",
        "  #  print(simpson(lambda x : x**4 + 2*x**3 - 5*x**2 + 3*x + 1, 0, 2, n)) # 9.3333, 9.0833, 9.06996, 9.0677, 9.0671, 9.0667\n",
        "\n",
        "# author: Worasait Suwannik\n",
        "# date: May 2015\n",
        "# Rewrite: Surapol Rochanapratishtha\n",
        "# Date: May 2022"
      ],
      "metadata": {
        "colab": {
          "base_uri": "https://localhost:8080/"
        },
        "id": "aCJQ9fmGl3eL",
        "outputId": "f0ad5a75-68b2-44fb-b7a2-49c560e5676c"
      },
      "execution_count": null,
      "outputs": [
        {
          "output_type": "stream",
          "name": "stdout",
          "text": [
            "0.999485905248533\n"
          ]
        }
      ]
    },
    {
      "cell_type": "code",
      "source": [
        "\"\"\"\n",
        "ตอนที่ 55 การเขียนโปรแกรมคอมพิวเตอร์ของระเบียบวิธีเกาส์ ควอดราเจอร์\n",
        "https://trinket.io/python/b3eff4e8f3\n",
        "\n",
        "\"\"\"\n",
        "\n",
        "from math import sqrt,sin,cos\n",
        "\n",
        "gq = [[],[],\n",
        "      [(-sqrt(1/3), 1),\n",
        "       ( sqrt(1/3), 1)],\n",
        "      [(-sqrt(3/5), 5/9),\n",
        "       ( sqrt(3/5), 5/9),\n",
        "       ( 0,         8/9)],\n",
        "      [(-sqrt(3/7-sqrt(6/5)*2/7), (18+sqrt(30))/36),\n",
        "       ( sqrt(3/7-sqrt(6/5)*2/7), (18+sqrt(30))/36),\n",
        "       (-sqrt(3/7+sqrt(6/5)*2/7), (18-sqrt(30))/36),\n",
        "       ( sqrt(3/7+sqrt(6/5)*2/7), (18-sqrt(30))/36)],\n",
        "      [(-sqrt(5-2*sqrt(10/7))/3, (322+13*sqrt(70))/900),\n",
        "       ( sqrt(5-2*sqrt(10/7))/3, (322+13*sqrt(70))/900),\n",
        "       (-sqrt(5+2*sqrt(10/7))/3, (322-13*sqrt(70))/900),\n",
        "       ( sqrt(5+2*sqrt(10/7))/3, (322-13*sqrt(70))/900),\n",
        "       ( 0,                      128/225)]\n",
        "          ]\n",
        "for i in range(len(gq)):\n",
        "  gq[i].sort(key=lambda x : x[0])\n",
        "\n",
        "def gaussian_quadrature(f, a, b, n=5):\n",
        "  '''\n",
        "  Parameters\n",
        "  ----------\n",
        "  f : function\n",
        "  a : number : start\n",
        "  b : number : stop\n",
        "  n : int\n",
        "\n",
        "  Returns\n",
        "  -------\n",
        "  float\n",
        "  '''\n",
        "  g = lambda t : ((b-a)*t+b+a)/2\n",
        "  return sum(w*f(g(p)) for (p,w) in gq[n]) * (b-a)/2\n",
        "\n",
        "if __name__ == '__main__':\n",
        "\n",
        "  f = lambda x : x*cos(x)\n",
        "  print(\"\\n\\n\")\n",
        "  print(gaussian_quadrature(f, -3, 2, 5)) #exact value approx. 1.9691\n",
        "\"\"\"\n",
        "  f = lambda x : x*sin(x)\n",
        "  print(gaussian_quadrature(f, 0, 2, 5))\n",
        "\"\"\"\n",
        "# author: Worasait Suwannik\n",
        "# date: May 2015\n",
        "# Rewrite: Surapol Rochanapratishtha\n",
        "# Date: May 2022"
      ],
      "metadata": {
        "colab": {
          "base_uri": "https://localhost:8080/",
          "height": 104
        },
        "id": "nu6-cnA9miEe",
        "outputId": "c031b684-a672-4725-ee42-00f3336f5b18"
      },
      "execution_count": null,
      "outputs": [
        {
          "output_type": "stream",
          "name": "stdout",
          "text": [
            "\n",
            "\n",
            "\n",
            "1.968994068978801\n"
          ]
        },
        {
          "output_type": "execute_result",
          "data": {
            "text/plain": [
              "'\\n  f = lambda x : x*sin(x)\\n  print(gaussian_quadrature(f, 0, 2, 5))\\n'"
            ],
            "application/vnd.google.colaboratory.intrinsic+json": {
              "type": "string"
            }
          },
          "metadata": {},
          "execution_count": 6
        }
      ]
    }
  ]
}