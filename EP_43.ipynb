{
  "nbformat": 4,
  "nbformat_minor": 0,
  "metadata": {
    "colab": {
      "name": "EP 43.ipynb",
      "provenance": [],
      "authorship_tag": "ABX9TyPbTBUVIgNaHMYFHod/iwiJ",
      "include_colab_link": true
    },
    "kernelspec": {
      "name": "python3",
      "display_name": "Python 3"
    },
    "language_info": {
      "name": "python"
    }
  },
  "cells": [
    {
      "cell_type": "markdown",
      "metadata": {
        "id": "view-in-github",
        "colab_type": "text"
      },
      "source": [
        "<a href=\"https://colab.research.google.com/github/rsurapol/Python-for-Numerical-Methods-for-Engineer/blob/master/EP_43.ipynb\" target=\"_parent\"><img src=\"https://colab.research.google.com/assets/colab-badge.svg\" alt=\"Open In Colab\"/></a>"
      ]
    },
    {
      "cell_type": "code",
      "execution_count": null,
      "metadata": {
        "id": "E7YDXx-ur4el"
      },
      "outputs": [],
      "source": [
        "\"\"\"\n",
        "ตอนที่ 43 โปรแกรมคอมพิวเตอร์สำหรับระเบียบวิธีกำลังสองน้อยสุด\n",
        "https://trinket.io/python/85192b8364\n",
        "\n",
        "\"\"\"\n",
        "\n",
        "\"\"\"\n",
        "matrix.py\n",
        "\"\"\"\n",
        "def column(m, c):\n",
        "  return [m[i][c] for i in range(len(m))]\n",
        "\n",
        "def row(m, r):\n",
        "  return m[r][:]\n",
        "   \n",
        "def height(m):\n",
        "  return len(m)\n",
        "  \n",
        "def width(m):\n",
        "  return len(m[0])\n",
        "\n",
        "def print_matrix(m):\n",
        "  for i in range(len(m)):\n",
        "      print(m[i])  \n",
        "\"\"\"\n",
        "gauss.py\n",
        "\"\"\"\n",
        "#from matrix import *\n",
        "\n",
        "def gaussian_elimination(m):\n",
        "  # forward elimination\n",
        "  n = height(m)\n",
        "  for i in range(n):\n",
        "    for j in range(i+1, n):\n",
        "      m[j] = [m[j][k] - m[i][k]*m[j][i]/m[i][i] for k in range(n+1)]\n",
        "   \n",
        "  if m[n-1][n-1] == 0: raise ValueError('No unique solution')\n",
        "  \n",
        "  # backward substitution\n",
        "  x = [0] * n\n",
        "  for i in range(n-1, -1, -1):  # for i in reversed(range(n)):\n",
        "    s = sum(m[i][j]*x[j] for j in range(i, n))\n",
        "    x[i] = (m[i][n] - s) / m[i][i]\n",
        "  return x\n",
        "\n",
        "#from gauss import *\n",
        "\n",
        "def least_square(x, y, order, sys_lin_method=gaussian_elimination):\n",
        "  \"\"\"\n",
        "  Parameters\n",
        "  ----------\n",
        "  x : list of floats\n",
        "  y : list of floats\n",
        "  order : int\n",
        "  \n",
        "  Returns\n",
        "  -------  \n",
        "  list of floats\n",
        "      coefficients of a polynomial\n",
        "  \"\"\"  \n",
        "  sx  = [sum(x[j]**i        for j in range(len(x))) for i in range(order*2+1)]\n",
        "  sxy = [sum(x[j]**i * y[j] for j in range(len(x))) for i in range(order+1)]\n",
        "  m = []\n",
        "  for i in range(order+1):\n",
        "    a = sx[i:(i+order+1)]\n",
        "    a.append(sxy[i])\n",
        "    m.append(a)\n",
        "  return sys_lin_method(m)\n",
        "\n",
        "if __name__ == '__main__':\n",
        "  x = [0, 0.5, 1, 1.5, 2, 2.5]  # data from http://web.iitd.ac.in/~pmvs/courses/mel705/curvefitting.pdf\n",
        "  y = [0.0674, -0.9156, 1.6253, 3.0377, 3.3535, 7.9409]\n",
        "  print(least_square(x, y, 2))\n",
        "  \n",
        "  #x = [0, 0.5, 1, 1.5, 2, 2.5, 3, 3.5, 4, 4.5, 5, 5.5, 6]\n",
        "  #y = [2.8, 4.1, 5.2, 5.9, 6.8, 8, 9.3, 10, 10.6, 12, 13.4, 14, 15.5]\n",
        "  #print(least_square(x, y, 1))\n",
        "\n",
        "# least square interpolation\n",
        "# author : Worasait Suwannik\n",
        "# date   : Aug 2015\n"
      ]
    }
  ]
}