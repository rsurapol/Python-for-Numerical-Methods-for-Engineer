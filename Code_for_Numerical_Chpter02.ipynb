{
  "nbformat": 4,
  "nbformat_minor": 0,
  "metadata": {
    "colab": {
      "provenance": [],
      "authorship_tag": "ABX9TyN3xpJCWiu0DM8ss/oXYyYS",
      "include_colab_link": true
    },
    "kernelspec": {
      "name": "python3",
      "display_name": "Python 3"
    },
    "language_info": {
      "name": "python"
    }
  },
  "cells": [
    {
      "cell_type": "markdown",
      "metadata": {
        "id": "view-in-github",
        "colab_type": "text"
      },
      "source": [
        "<a href=\"https://colab.research.google.com/github/rsurapol/Python-for-Numerical-Methods-for-Engineer/blob/master/Code_for_Numerical_Chpter02.ipynb\" target=\"_parent\"><img src=\"https://colab.research.google.com/assets/colab-badge.svg\" alt=\"Open In Colab\"/></a>"
      ]
    },
    {
      "cell_type": "code",
      "metadata": {
        "colab": {
          "base_uri": "https://localhost:8080/"
        },
        "id": "NxWS7lZibmeZ",
        "outputId": "4bdd84ab-c5f5-48b1-cf26-f4ddb506c63a"
      },
      "source": [
        "\"\"\"\n",
        "========Python for EP.07=============\n",
        "ตอนที่ 7 โปรแกรมคอมพิวเตอร์สำหรับระเบียบวิธีแบ่งครึ่งช่วง\n",
        "\n",
        "https://trinket.io/python/8afe843bad\n",
        "\n",
        "eps = 1e-5\n",
        "===============================\n",
        "\"\"\"\n",
        "\n",
        "def bisection(f, start, stop, eps = 0.1, max_iteration = 100):\n",
        "  \"\"\"\n",
        "  Parameters\n",
        "  ----------\n",
        "  f     : function\n",
        "  start : float\n",
        "  stop  : float\n",
        "\n",
        "  Returns\n",
        "  -------\n",
        "  float\n",
        "      a root of function f\n",
        "\n",
        "  Raises\n",
        "  ------\n",
        "  ValueError\n",
        "      if cannot find root in the given range\n",
        "  \"\"\"\n",
        "  count=0\n",
        "  for __ in range(max_iteration):\n",
        "    count=count+1\n",
        "    #print(count)\n",
        "\n",
        "    # find the middle point\n",
        "    #half = start + (stop - start)/2\n",
        "    half = (start + stop)/2\n",
        "\n",
        "    # terminate?\n",
        "    if abs(f(half)) < eps:\n",
        "      return half\n",
        "    # find new range\n",
        "    if f(half) * f(start) > 0:\n",
        "      start = half\n",
        "    else:\n",
        "      stop = half\n",
        "    print(\"รอบที่ %d, a[%d] = %.4f, b[%d] =%.4f, f(half) =%.4f\"%(count,count,start,count,stop,f(half)))\n",
        "  raise ValueError('Cannot find root in the given range')\n",
        "\n",
        "#============== Main Program=============\n",
        "f = lambda x : (5*(x**3))-(4*x)+1\n",
        "#f = lambda x : x**5 + x**3 + x**2 - 1\n",
        "#f = lambda x : 5*x**5 - 2*x**3 + 8*x**2 - 1\n",
        "#f = lambda x : x**3 - x**2 - 5*x + 4\n",
        "#a = float(input(\"Enter a : \"))\n",
        "#b = float(input(\"Enter b : \"))\n",
        "#x = bisection(f, a, b)\n",
        "#x = bisection(f, 0, 1)\n",
        "#x = bisection(f, 0.5, 1)\n",
        "x = bisection(f, -2, -0.5)\n",
        "print(\"f(%f) = %f\" % (x, f(x)))\n",
        "\n"
      ],
      "execution_count": null,
      "outputs": [
        {
          "output_type": "stream",
          "name": "stdout",
          "text": [
            "รอบที่ 1, a[1] = -1.2500, b[1] =-0.5000, f(half) =-3.7656\n",
            "รอบที่ 2, a[2] = -1.2500, b[2] =-0.8750, f(half) =1.1504\n",
            "รอบที่ 3, a[3] = -1.0625, b[3] =-0.8750, f(half) =-0.7473\n",
            "รอบที่ 4, a[4] = -1.0625, b[4] =-0.9688, f(half) =0.3293\n",
            "รอบที่ 5, a[5] = -1.0156, b[5] =-0.9688, f(half) =-0.1756\n",
            "f(-0.992188) = 0.085024\n"
          ]
        }
      ]
    },
    {
      "cell_type": "code",
      "metadata": {
        "id": "9OBSxd3yZ4Xx",
        "colab": {
          "base_uri": "https://localhost:8080/"
        },
        "outputId": "c5fd18b4-559d-4ac4-ca64-c64f031bc803"
      },
      "source": [
        "\"\"\"\n",
        "========Python for EP.09=============\n",
        "ตอนที่ 9 โปรแกรมคอมพิวเตอร์สำหรับระเบียบวิธีนิวตัน ราฟสัน\n",
        "\n",
        "https://trinket.io/python/fc5280518d\n",
        "\n",
        "===============================\n",
        "\"\"\"\n",
        "def newton_raphson(f, df, x0, eps=0.1, max_iteration=100):\n",
        "  \"\"\"\n",
        "  Parameters\n",
        "  ----------\n",
        "  f  : function\n",
        "  df : derivative of f\n",
        "  x0 : initial guess\n",
        "\n",
        "  Returns\n",
        "  -------\n",
        "  float\n",
        "      a root of function f\n",
        "\n",
        "  Raises\n",
        "  ------\n",
        "  ValueError\n",
        "      if cannot find root???\n",
        "  \"\"\"\n",
        "  count=0\n",
        "  for __ in range(max_iteration):\n",
        "    count=count+1\n",
        "    #print(count)\n",
        "    print(\"รอบที่ %d, x[%d] = %.4f\"%(count,count,x0))\n",
        "    dx = -f(x0)/df(x0)\n",
        "    x0 += dx\n",
        "    # terminate?\n",
        "    if abs(dx) < eps:\n",
        "      return x0\n",
        "  raise ValueError('Cannot find root')\n",
        "\n",
        "if __name__ == '__main__':\n",
        "  f = lambda x : (5*(x**3))-(4*x)+1\n",
        "  #f  = lambda x : x**5 + x**3 + x**2 - 1\n",
        "  #f = lambda x : 5*x**5 - 2*x**3 + 8*x**2 - 1\n",
        "  #f  = lambda x : x**3 - (6*x**2) + (11*x) - 5.9\n",
        "  #df = lambda x : 5*x**4 + 3*x**2 + 2*x\n",
        "  #df = lambda x : 25*x**4 - 6*x**2 + 16*x\n",
        "  df = lambda x : (15*(x**2)) - 4\n",
        "  #df = lambda x : (3*x**2) + (6*x) + 11\n",
        "  x = newton_raphson(f, df, -0.75)\n",
        "  print(\"f(%f) = %f\" % (x, f(x)))\n",
        "\n",
        "# author: Worasait Suwannik\n",
        "# date: Aug 2015\n",
        "\n"
      ],
      "execution_count": null,
      "outputs": [
        {
          "output_type": "stream",
          "name": "stdout",
          "text": [
            "รอบที่ 1, x[1] = -0.7500\n",
            "รอบที่ 2, x[2] = -1.1761\n",
            "รอบที่ 3, x[3] = -1.0310\n",
            "f(-1.001233) = -0.013591\n"
          ]
        }
      ]
    },
    {
      "cell_type": "code",
      "metadata": {
        "id": "C2mpDM1hafP1",
        "colab": {
          "base_uri": "https://localhost:8080/"
        },
        "outputId": "a3b8309f-153e-4e5e-af4c-7a13a907afbf"
      },
      "source": [
        "\"\"\"\n",
        "========Python for EP.11=============\n",
        "ตอนที่ 11 โปรแกรมคอมพิวเตอร์สำหรับระเบียบวิธีเซแคนต์\n",
        "\n",
        "https://trinket.io/python/77d9959426\n",
        "\n",
        "===============================\n",
        "\"\"\"\n",
        "from math import *\n",
        "def secant(f, x0, x1, eps=0.1, max_iteration=100):\n",
        "  \"\"\"\n",
        "  Parameters\n",
        "  ----------\n",
        "  f  : function\n",
        "  x0 : float : initial guess\n",
        "  x1 : float : initial guess\n",
        "\n",
        "  Returns\n",
        "  -------\n",
        "  float : a root of function f\n",
        "\n",
        "  Raises\n",
        "  ------\n",
        "  ValueError : if cannot find root???\n",
        "  \"\"\"\n",
        "  count=0\n",
        "  for __ in range(max_iteration):\n",
        "    count=count+1\n",
        "    print(count)\n",
        "    dx = (x1 - x0) * f(x1) / (f(x1) - f(x0))\n",
        "    x0 = x1\n",
        "    x1 -= dx\n",
        "    # terminate?\n",
        "    if abs(f(x1)) < eps and abs(dx) < eps:\n",
        "      return x1\n",
        "  raise ValueError('Cannot find root')\n",
        "\n",
        "if __name__ == '__main__':\n",
        "  f = lambda x : (5*(x**3))-(4*x)+1\n",
        "  #f = lambda x : x**5 + x**3 +x**2 - 1\n",
        "  #f = lambda x : 5*x**5 - 2*x**3 + 8*x**2 - 1\n",
        "  #x = secant(f, 1, 2)\n",
        "  #x = secant(f, 0, 1)\n",
        "  x = secant(f, -3, -2)\n",
        "  #x = secant(f, -3, -2)     # gave incorrect result\n",
        "\n",
        "  #f = lambda x : 5*x**3 - 4*x +1\n",
        "  #x = secant(f, -3, -2)\n",
        "\n",
        "  #from math import *\n",
        "  #f = lambda x : 3*x + sin(x) - e**x  # http://bit.ly/1K5dhQ7\n",
        "  #x = secant(f, 0, 1)\n",
        "\n",
        "  print(\"f(%f) = %f\" % (x, f(x)))\n",
        "\n",
        "# author: Worasait Suwannik\n",
        "# date: Aug 2015\n",
        "\n"
      ],
      "execution_count": null,
      "outputs": [
        {
          "output_type": "stream",
          "name": "stdout",
          "text": [
            "1\n",
            "2\n",
            "3\n",
            "4\n",
            "5\n",
            "f(-1.007419) = -0.082437\n"
          ]
        }
      ]
    },
    {
      "cell_type": "code",
      "metadata": {
        "id": "-i_608QxbEWn",
        "colab": {
          "base_uri": "https://localhost:8080/"
        },
        "outputId": "432d6d8c-9ee8-45ba-e080-a43eab9bfa16"
      },
      "source": [
        "\"\"\"\n",
        "========Python for EP.13=============\n",
        "ตอนที่ 13 โปรแกรมคอมพิวเตอร์สำหรับระเบียบวิธีการทำซ้ำจุดตรึง\n",
        "\n",
        "https://trinket.io/python/a3409e4460\n",
        "\n",
        "===============================\n",
        "\"\"\"\n",
        "from math import *\n",
        "def fixed_point(f, g, x0, eps = 0.00001, max_iteration = 100):\n",
        "  \"\"\"\n",
        "  Parameters\n",
        "  ----------\n",
        "  f   : function\n",
        "  g   : function : iteration function\n",
        "  x0  : float    : initial guess\n",
        "\n",
        "  Returns\n",
        "  -------\n",
        "  float : a root of function f\n",
        "\n",
        "  Raises\n",
        "  ------\n",
        "  ValueError : if cannot find root???\n",
        "  \"\"\"\n",
        "  count=0\n",
        "  for __ in range(max_iteration):\n",
        "    count=count+1\n",
        "    print(count)\n",
        "    x1 = g(x0)\n",
        "    # terminate?\n",
        "    if abs(x1 - x0) < eps:\n",
        "      return x1\n",
        "    x0 = x1\n",
        "  raise ValueError('Cannot find root')\n",
        "\n",
        "if __name__ == '__main__':\n",
        "  #f = lambda x : x**4 - x - 10\n",
        "  f = lambda x : 2*x**2 - x - 3\n",
        "  #g = lambda x : (x+10)**0.25\n",
        "  #g = lambda x : 2*x**2 - x - 3 #แบบที่ 1\n",
        "  #g = lambda x : sqrt((x+3)/2) #แบบที่ 2\n",
        "  g = lambda x : -1*sqrt((x+3)/2) #แบบที่ 3\n",
        "  x = fixed_point(f, g, 0)\n",
        "  print(\"f(%f) = %f\" % (x, f(x)))\n",
        "\n",
        "# author: Worasait Suwannik\n",
        "# date: Aug 2015\n",
        "\n"
      ],
      "execution_count": null,
      "outputs": [
        {
          "output_type": "stream",
          "name": "stdout",
          "text": [
            "1\n",
            "2\n",
            "3\n",
            "4\n",
            "5\n",
            "6\n",
            "7\n",
            "8\n",
            "9\n",
            "10\n",
            "f(-0.999999) = -0.000004\n"
          ]
        }
      ]
    }
  ]
}