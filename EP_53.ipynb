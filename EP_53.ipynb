{
  "nbformat": 4,
  "nbformat_minor": 0,
  "metadata": {
    "colab": {
      "name": "EP.53.ipynb",
      "provenance": [],
      "authorship_tag": "ABX9TyNYq/mrxruB2pe21zuhiX+M",
      "include_colab_link": true
    },
    "kernelspec": {
      "name": "python3",
      "display_name": "Python 3"
    },
    "language_info": {
      "name": "python"
    }
  },
  "cells": [
    {
      "cell_type": "markdown",
      "metadata": {
        "id": "view-in-github",
        "colab_type": "text"
      },
      "source": [
        "<a href=\"https://colab.research.google.com/github/rsurapol/Python-for-Numerical-Methods-for-Engineer/blob/master/EP_53.ipynb\" target=\"_parent\"><img src=\"https://colab.research.google.com/assets/colab-badge.svg\" alt=\"Open In Colab\"/></a>"
      ]
    },
    {
      "cell_type": "code",
      "execution_count": null,
      "metadata": {
        "id": "1UdXFW49mNuf"
      },
      "outputs": [],
      "source": [
        "\"\"\"\n",
        "ตอนที่ 53 ช่วงที่ 1 โปรแกรมคอมพิวเตอร์สำหรับระเบียบวิธีสี่เหลี่ยมคางหมู\n",
        "https://trinket.io/python/e6309a5561\n",
        "\n",
        "\"\"\"\n",
        "\n",
        "def trapezoidal(f, a, b, n):\n",
        "  '''\n",
        "  Parameters\n",
        "  ----------\n",
        "  f : function\n",
        "  a : number : start\n",
        "  b : number : stop\n",
        "  n : integer \n",
        "  \n",
        "  Returns\n",
        "  -------  \n",
        "  float  \n",
        "  '''\n",
        "  h = (b - a) / n\n",
        "  s = sum(f(a + i*h) for i in range(1, n))\n",
        "  return (f(a) + 2*s + f(b)) * h / 2\n",
        "\n",
        "if __name__ == '__main__':\n",
        "  from math import cos, pi\n",
        "  f = lambda x : cos(x)\n",
        "  a = 0\n",
        "  b = pi / 2\n",
        "  n = 20\n",
        "  print(trapezoidal(f, a, b, n))\n",
        "  # aj Pramote p283\n",
        "  #print(simpson(lambda x : 2*x**3 - 5*x**2 + 3*x + 1, 0, 2, 10))  # 2.67\n",
        "  # aj Pramote p284\n",
        "  #for n in [2,4,6,8,10,20]:\n",
        "  #  print(simpson(lambda x : x**4 + 2*x**3 - 5*x**2 + 3*x + 1, 0, 2, n)) # 9.3333, 9.0833, 9.06996, 9.0677, 9.0671, 9.0667\n",
        "\n",
        "# author: Worasait Suwannik\n",
        "# date: May 2015\n",
        "# Rewrite: Surapol Rochanapratishtha\n",
        "# Date: May 2022"
      ]
    }
  ]
}