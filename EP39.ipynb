{
  "nbformat": 4,
  "nbformat_minor": 0,
  "metadata": {
    "colab": {
      "name": "EP39.ipynb",
      "provenance": [],
      "authorship_tag": "ABX9TyNeigbE65Ld0i/9I5I8PSBL",
      "include_colab_link": true
    },
    "kernelspec": {
      "name": "python3",
      "display_name": "Python 3"
    },
    "language_info": {
      "name": "python"
    }
  },
  "cells": [
    {
      "cell_type": "markdown",
      "metadata": {
        "id": "view-in-github",
        "colab_type": "text"
      },
      "source": [
        "<a href=\"https://colab.research.google.com/github/rsurapol/Python-for-Numerical-Methods-for-Engineer/blob/master/EP39.ipynb\" target=\"_parent\"><img src=\"https://colab.research.google.com/assets/colab-badge.svg\" alt=\"Open In Colab\"/></a>"
      ]
    },
    {
      "cell_type": "code",
      "execution_count": null,
      "metadata": {
        "id": "apnSfOFGrG0w"
      },
      "outputs": [],
      "source": [
        "\"\"\"\n",
        "ตอนที่ 39 โปรแกรมคอมพิวเตอร์สำหรับระเบียบวิธีผลต่างย่อยของนิวตัน\n",
        "https://trinket.io/python/b13a541c25\n",
        "\"\"\"\n",
        "\n",
        "from math import *\n",
        "import operator, functools\n",
        "\n",
        "def newton_interpolation(x, y, u):\n",
        "  '''\n",
        "  Parameters\n",
        "  ----------\n",
        "  x : list of floats\n",
        "  y : list of floats\n",
        "  u : float\n",
        "  \n",
        "  Returns\n",
        "  -------  \n",
        "  float\n",
        "      an estimate at the point u\n",
        "  '''\n",
        "  g = y[:]\n",
        "  s = g[0]\n",
        "  for i in range(len(y)-1):\n",
        "    g = [(g[j+1]-g[j])/(x[j+i+1]-x[j]) for j in range(len(g)-1)]\n",
        "    s += g[0] * product(u-x[j] for j in range(i+1))\n",
        "  return s  \n",
        "\n",
        "'''\n",
        "shorter way to write a product function\n",
        "\n",
        "import operator, functools\n",
        "def product(a): return functools.reduce(operator.mul, a, 1)\n",
        "'''\n",
        "def product(a): return functools.reduce(operator.mul, a, 1)\n",
        "\"\"\"\n",
        "def product(a): \n",
        "  p = 1\n",
        "  for i in a: p *= i\n",
        "  return p\n",
        "\"\"\"\n",
        "\n",
        "if __name__ == '__main__':\n",
        "  \n",
        "  x = [1.0000, 2.5000, 4.0000, 5.5000, 7.000]\n",
        "  y = [log(i) for i in x]\n",
        "  u = 6.0\n",
        "\n",
        "\n",
        "  estim = newton_interpolation(x, y, u)\n",
        "  exact = log(u)\n",
        "\n",
        "  print(\"\\n\")\n",
        "  print(\"%.11f , %.11f \"%(estim, exact))\n",
        "\n",
        "# author : Worasait Suwannik\n",
        "# date   : Aug 2015\n",
        "# rewrite by : Surapol Rochanapratishtha\n",
        "# Date : May 2022"
      ]
    }
  ]
}