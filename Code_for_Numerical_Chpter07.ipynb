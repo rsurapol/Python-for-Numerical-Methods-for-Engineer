{
  "nbformat": 4,
  "nbformat_minor": 0,
  "metadata": {
    "colab": {
      "provenance": [],
      "authorship_tag": "ABX9TyPmSd25bTbOc195RPMZE6em",
      "include_colab_link": true
    },
    "kernelspec": {
      "name": "python3",
      "display_name": "Python 3"
    },
    "language_info": {
      "name": "python"
    }
  },
  "cells": [
    {
      "cell_type": "markdown",
      "metadata": {
        "id": "view-in-github",
        "colab_type": "text"
      },
      "source": [
        "<a href=\"https://colab.research.google.com/github/rsurapol/Python-for-Numerical-Methods-for-Engineer/blob/master/Code_for_Numerical_Chpter07.ipynb\" target=\"_parent\"><img src=\"https://colab.research.google.com/assets/colab-badge.svg\" alt=\"Open In Colab\"/></a>"
      ]
    },
    {
      "cell_type": "code",
      "execution_count": 17,
      "metadata": {
        "colab": {
          "base_uri": "https://localhost:8080/"
        },
        "id": "3C_0qNVZ_Big",
        "outputId": "7004faf7-f775-4400-9089-ea71ca0edf52"
      },
      "outputs": [
        {
          "output_type": "stream",
          "name": "stdout",
          "text": [
            "( 0.0100 , 1.1000 )\n",
            "( 0.0200 , 1.1980 )\n",
            "( 0.0300 , 1.2941 )\n",
            "( 0.0400 , 1.3882 )\n",
            "( 0.0500 , 1.4804 )\n",
            "( 0.0600 , 1.5707 )\n",
            "( 0.0700 , 1.6591 )\n",
            "( 0.0800 , 1.7457 )\n",
            "( 0.0900 , 1.8304 )\n",
            "( 0.1000 , 1.9134 )\n",
            "( 0.1100 , 1.9946 )\n",
            "( 0.1200 , 2.0740 )\n",
            "( 0.1300 , 2.1517 )\n",
            "( 0.1400 , 2.2277 )\n",
            "( 0.1500 , 2.3020 )\n",
            "( 0.1600 , 2.3746 )\n",
            "( 0.1700 , 2.4456 )\n",
            "( 0.1800 , 2.5150 )\n",
            "( 0.1900 , 2.5827 )\n",
            "( 0.2000 , 2.6489 )\n",
            "( 0.2100 , 2.7136 )\n",
            "( 0.2200 , 2.7767 )\n",
            "( 0.2300 , 2.8383 )\n",
            "( 0.2400 , 2.8984 )\n",
            "( 0.2500 , 2.9570 )\n",
            "( 0.2600 , 3.0142 )\n",
            "( 0.2700 , 3.0699 )\n",
            "( 0.2800 , 3.1243 )\n",
            "( 0.2900 , 3.1773 )\n",
            "( 0.3000 , 3.2289 )\n",
            "( 0.3100 , 3.2791 )\n",
            "( 0.3200 , 3.3281 )\n",
            "( 0.3300 , 3.3757 )\n",
            "( 0.3400 , 3.4221 )\n",
            "( 0.3500 , 3.4671 )\n",
            "( 0.3600 , 3.5110 )\n",
            "( 0.3700 , 3.5536 )\n",
            "( 0.3800 , 3.5950 )\n",
            "( 0.3900 , 3.6352 )\n",
            "( 0.4000 , 3.6743 )\n",
            "( 0.4100 , 3.7122 )\n",
            "( 0.4200 , 3.7490 )\n",
            "( 0.4300 , 3.7847 )\n",
            "( 0.4400 , 3.8193 )\n",
            "( 0.4500 , 3.8528 )\n",
            "( 0.4600 , 3.8853 )\n",
            "( 0.4700 , 3.9168 )\n",
            "( 0.4800 , 3.9472 )\n",
            "( 0.4900 , 3.9766 )\n",
            "( 0.5000 , 4.0051 )\n",
            "ค่าประมาณผลเฉลย yo = 4.0051\n"
          ]
        }
      ],
      "source": [
        "\"\"\"\n",
        "ตอนที่ 59 โปรแกรมคอมพิวเตอร์สำหรับระเบียบวิธีออยเลอร์\n",
        "https://trinket.io/python/f0105c42a4\n",
        "\n",
        "\"\"\"\n",
        "\n",
        "def euler_ivp(f, t0, y0, h, t):\n",
        "  \"\"\"\n",
        "  Parameters\n",
        "  ----------\n",
        "  f  : function\n",
        "  t0 : float :  initial value\n",
        "  y0 : float :  initial value\n",
        "  h  : float :  step size\n",
        "  x  : float\n",
        "\n",
        "  Returns\n",
        "  -------\n",
        "  float : solution at t\n",
        "  \"\"\"\n",
        "  for i in range(int(round((t-t0)/h))):\n",
        "    y0 += f(t0, y0) * h\n",
        "    t0 += h\n",
        "    #print(\"y(%d) = y(%d) + f(%f , %f) * %f\"%(i+1,i,t0,y0,h))\n",
        "    print(\"( %.4f , %.4f )\"%(t0,y0))\n",
        "  return y0\n",
        "\n",
        "if __name__ == \"__main__\":\n",
        "\n",
        "  f = lambda t, y : -2*t**3 + 12*t**2 - 20*t + 10\n",
        "  #print(\"y(i+1) = y(i) + f(t(i)   ,   y(i)) * h เมื่อ i = 0,1,2,...\")\n",
        "  print(\"ค่าประมาณผลเฉลย yo = %.4f\"%(euler_ivp(f, 0, 1.0, 0.1, 0.5)))\n",
        "  #print(\"ค่าประมาณผลเฉลย yo = %.4f\"%(euler_ivp(f, 0, 1.0, 0.01, 0.5)))"
      ]
    },
    {
      "cell_type": "code",
      "source": [
        "\"\"\"\n",
        "ตอนที่ 62 โปรแกรมคอมพิวเตอร์สำหรับระเบียบวิธีอันดับสอง\n",
        "https://trinket.io/python/3ac15ad1fc\n",
        "\n",
        "\"\"\"\n",
        "def huen(f, t0, y0, h, t):   # Modified Euler Method\n",
        "  \"\"\"\n",
        "  Parameters\n",
        "  ----------\n",
        "  f  : function\n",
        "  t0 : float :  initial value\n",
        "  y0 : float :  initial value\n",
        "  h  : float :  step size\n",
        "  t  : float\n",
        "\n",
        "  Returns\n",
        "  -------\n",
        "  float : y0 at t\n",
        "  \"\"\"\n",
        "  for i in range(int(round((t-t0)/h))):\n",
        "    k1 = f(t0, y0)\n",
        "    k2 = f(t0 + h, y0 + k1*h)\n",
        "\n",
        "    t0 += h\n",
        "    y0 += (0.5*k1 + 0.5*k2)*h\n",
        "    print(\"( %.4f, %.4f )\"%(t0,y0))\n",
        "  return y0\n",
        "\n",
        "def midpoint(f, t0, y0, h, t):\n",
        "  \"\"\"\n",
        "  Parameters\n",
        "  ----------\n",
        "  f  : function\n",
        "  t0 : float :  initial value\n",
        "  y0 : float :  initial value\n",
        "  h  : float :  step size\n",
        "  t  : float\n",
        "\n",
        "  Returns\n",
        "  -------\n",
        "  float : y0 at t\n",
        "  \"\"\"\n",
        "  for i in range(int(round((t-t0)/h))):\n",
        "    k1 = f(t0, y0)\n",
        "    k2 = f(t0 + 0.5*h, y0 + 0.5*k1*h)\n",
        "\n",
        "    t0 += h\n",
        "    y0 += k2*h\n",
        "    print(\"( %f, %f )\"%(t0,y0))\n",
        "\n",
        "  return y0\n",
        "\n",
        "if __name__ == \"__main__\":\n",
        "  f = lambda t, y : -2*t**3 + 12*t**2 - 20*t + 10\n",
        "  print(\"ผลเฉลย huen = %.4f \"%huen(f, 0, 1.0, 0.1, 0.5))\n",
        "  #print(\"ผลเฉลย midpoint = %.4f \"%midpoint(f, 0, 1.0, 0.05, 1.0))\n",
        "\n",
        "# runge-kutta order 2"
      ],
      "metadata": {
        "colab": {
          "base_uri": "https://localhost:8080/"
        },
        "id": "ZmB_2Nz9UupH",
        "outputId": "227a242b-1281-410c-bafb-d03c62c6cbed"
      },
      "execution_count": 21,
      "outputs": [
        {
          "output_type": "stream",
          "name": "stdout",
          "text": [
            "( 0.1000, 1.9059 )\n",
            "( 0.2000, 2.6350 )\n",
            "( 0.3000, 3.2095 )\n",
            "( 0.4000, 3.6504 )\n",
            "( 0.5000, 3.9775 )\n",
            "ผลเฉลย = 3.9775 \n"
          ]
        }
      ]
    },
    {
      "cell_type": "code",
      "source": [
        "\"\"\"\n",
        "ตอนที่ 64 โปรแกรมคอมพิวเตอร์สำหรับระเบียบวิธีรุงเง คุตตาอันดับสี่\n",
        "https://trinket.io/python/1cdd5fb655\n",
        "\"\"\"\n",
        "def runge_kutta(f, t0, y0, h, t):\n",
        "\n",
        "  for i in range(int(round((t-t0)/h))):\n",
        "    k1 = f(t0            , y0)\n",
        "    k2 = f(t0+  0.5*h, y0+   0.5*k1*h)\n",
        "    k3 = f(t0+  0.5*h, y0+   0.5*k2*h)\n",
        "    k4 = f(t0+        h, y0+         k3*h)\n",
        "\n",
        "    t0 += h\n",
        "    y0 += (k1 + 2*k2 + 2*k3 + k4)*h/6\n",
        "    print(\"( %.4f, %.4f )\"%(t0,y0))\n",
        "\n",
        "  return y0\n",
        "\n",
        "if __name__ == \"__main__\":\n",
        "  f = lambda t, y : -2*t**3 + 12*t**2 - 20*t +10\n",
        "  print(\"ผลเฉลย runge_kutta = %.5f \"%runge_kutta(f, 0, 1, 0.1, 0.5))"
      ],
      "metadata": {
        "colab": {
          "base_uri": "https://localhost:8080/"
        },
        "id": "1WSSCZRmZ6ND",
        "outputId": "041e6193-8880-4023-9ac4-460027aafdbf"
      },
      "execution_count": 7,
      "outputs": [
        {
          "output_type": "stream",
          "name": "stdout",
          "text": [
            "( 0.1000, 1.9040 )\n",
            "( 0.2000, 2.6312 )\n",
            "( 0.3000, 3.2040 )\n",
            "( 0.4000, 3.6432 )\n",
            "( 0.5000, 3.9688 )\n",
            "ผลเฉลย runge_kutta = 3.96875 \n"
          ]
        }
      ]
    },
    {
      "cell_type": "code",
      "source": [
        "\"\"\"\n",
        "ตอนที่ 66 โปรแกรมคอมพิวเตอร์สำหรับผลเฉลยเชิงตัวเลขของระบบสมการเชิงอนุพันธ์สามัญและสมการเชิงอนุพันธ์สามัญอันดับสูง\n",
        "https://trinket.io/python/1cdd5fb655\n",
        "\"\"\"\n",
        "def euler_single(fs, x0, y0s, h):\n",
        "  return [y0s[i] + fs[i](x0, y0s)*h for i in range(len(y0s))]\n",
        "\n",
        "def runge_kutta_single(f, x0, y0s, h):\n",
        "  n = len(y0s)\n",
        "  k1s = [fs[i](x0, y0s)         for i in range(n)]\n",
        "  yts = [y0s[i] + 0.5*h*k1s[i]  for i in range(n)]\n",
        "  k2s = [fs[i](x0 + 0.5*h, yts) for i in range(n)]\n",
        "  yts = [y0s[i] + 0.5*h*k2s[i]  for i in range(n)]\n",
        "  k3s = [fs[i](x0 + 0.5*h, yts) for i in range(n)]\n",
        "  yts = [y0s[i] + h*k3s[i]      for i in range(n)]\n",
        "  k4s = [fs[i](x0 + h, yts)     for i in range(n)]\n",
        "\n",
        "  return [y0s[i] + (k1s[i] + 2*k2s[i] + 2*k3s[i] + k4s[i])*h/6 for i in range(n)]\n",
        "\n",
        "def sys_ode(fs, x0, y0s, h, x, method=runge_kutta_single):\n",
        "  for i in range(int(round((x-x0)/h))):\n",
        "    y0s = method(fs, x0, y0s, h)\n",
        "    x0 += h\n",
        "\n",
        "  return y0s\n",
        "\n",
        "if __name__ == \"__main__\":\n",
        "  \"\"\"\n",
        "  Parameters\n",
        "  --------\n",
        "  fs   : list of functions\n",
        "  x0  : number              : initial value\n",
        "  y0s : list of numbers   : initial value\n",
        "  h : number                : step size\n",
        "  x : number\n",
        "\n",
        "  Returns\n",
        "  ----\n",
        "  list of numbers : solutions at x\n",
        "  \"\"\"\n",
        "  fs = [\n",
        "      lambda x, ys : ys[0] + ys[1],\n",
        "      lambda x, ys : 4*ys[0] + ys[1]\n",
        "  ]\n",
        "\n",
        "  ys = sys_ode(fs, 0, [4, 4], 0.1, 1, runge_kutta_single)\n",
        "  print(ys)"
      ],
      "metadata": {
        "colab": {
          "base_uri": "https://localhost:8080/"
        },
        "id": "qGDZd_mpgbNA",
        "outputId": "71862483-9ee1-4112-a638-3667ab0813a6"
      },
      "execution_count": 10,
      "outputs": [
        {
          "output_type": "stream",
          "name": "stdout",
          "text": [
            "[60.61497968913759, 119.75844028062518]\n"
          ]
        }
      ]
    }
  ]
}