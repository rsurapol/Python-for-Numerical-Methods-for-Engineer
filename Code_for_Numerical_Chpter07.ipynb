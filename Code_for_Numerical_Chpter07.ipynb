{
  "nbformat": 4,
  "nbformat_minor": 0,
  "metadata": {
    "colab": {
      "provenance": [],
      "authorship_tag": "ABX9TyOsdD0Zp742LG+Hzn+TWhSM",
      "include_colab_link": true
    },
    "kernelspec": {
      "name": "python3",
      "display_name": "Python 3"
    },
    "language_info": {
      "name": "python"
    }
  },
  "cells": [
    {
      "cell_type": "markdown",
      "metadata": {
        "id": "view-in-github",
        "colab_type": "text"
      },
      "source": [
        "<a href=\"https://colab.research.google.com/github/rsurapol/Python-for-Numerical-Methods-for-Engineer/blob/master/Code_for_Numerical_Chpter07.ipynb\" target=\"_parent\"><img src=\"https://colab.research.google.com/assets/colab-badge.svg\" alt=\"Open In Colab\"/></a>"
      ]
    },
    {
      "cell_type": "code",
      "execution_count": 4,
      "metadata": {
        "colab": {
          "base_uri": "https://localhost:8080/"
        },
        "id": "3C_0qNVZ_Big",
        "outputId": "f6b99448-41d7-4fda-eeba-2a7bd45a2d10"
      },
      "outputs": [
        {
          "output_type": "stream",
          "name": "stdout",
          "text": [
            "\n",
            "0.1 2.0\n",
            "0.2 2.8118\n",
            "0.30000000000000004 3.4581999999999997\n",
            "0.4 3.9608\n",
            "0.5 4.34\n",
            "4.34\n"
          ]
        }
      ],
      "source": [
        "\"\"\"\n",
        "ตอนที่ 59 โปรแกรมคอมพิวเตอร์สำหรับระเบียบวิธีออยเลอร์\n",
        "https://trinket.io/python/f0105c42a4\n",
        "\n",
        "\"\"\"\n",
        "\n",
        "def euler_ivp(f, t0, y0, h, t):\n",
        "  \"\"\"\n",
        "  Parameters\n",
        "  ----------\n",
        "  f  : function\n",
        "  t0 : float :  initial value\n",
        "  y0 : float :  initial value\n",
        "  h  : float :  step size\n",
        "  x  : float\n",
        "\n",
        "  Returns\n",
        "  -------\n",
        "  float : solution at t\n",
        "  \"\"\"\n",
        "  for i in range(int(round((t-t0)/h))):\n",
        "    y0 += f(t0, y0) * h\n",
        "    t0 += h\n",
        "    print(t0,y0)\n",
        "  return y0\n",
        "\n",
        "if __name__ == \"__main__\":\n",
        "\n",
        "  f = lambda t, y : -2*t**3 + 12*t**2 - 20*t + 10\n",
        "  print(\"\")\n",
        "  print(euler_ivp(f, 0, 1.0, 0.1, 0.5))"
      ]
    }
  ]
}