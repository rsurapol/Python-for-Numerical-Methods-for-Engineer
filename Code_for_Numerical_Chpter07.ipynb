{
  "nbformat": 4,
  "nbformat_minor": 0,
  "metadata": {
    "colab": {
      "provenance": [],
      "authorship_tag": "ABX9TyPQHbC8sIAjz7HGTYcyafvE",
      "include_colab_link": true
    },
    "kernelspec": {
      "name": "python3",
      "display_name": "Python 3"
    },
    "language_info": {
      "name": "python"
    }
  },
  "cells": [
    {
      "cell_type": "markdown",
      "metadata": {
        "id": "view-in-github",
        "colab_type": "text"
      },
      "source": [
        "<a href=\"https://colab.research.google.com/github/rsurapol/Python-for-Numerical-Methods-for-Engineer/blob/master/Code_for_Numerical_Chpter07.ipynb\" target=\"_parent\"><img src=\"https://colab.research.google.com/assets/colab-badge.svg\" alt=\"Open In Colab\"/></a>"
      ]
    },
    {
      "cell_type": "code",
      "execution_count": 17,
      "metadata": {
        "colab": {
          "base_uri": "https://localhost:8080/"
        },
        "id": "3C_0qNVZ_Big",
        "outputId": "7004faf7-f775-4400-9089-ea71ca0edf52"
      },
      "outputs": [
        {
          "output_type": "stream",
          "name": "stdout",
          "text": [
            "( 0.0100 , 1.1000 )\n",
            "( 0.0200 , 1.1980 )\n",
            "( 0.0300 , 1.2941 )\n",
            "( 0.0400 , 1.3882 )\n",
            "( 0.0500 , 1.4804 )\n",
            "( 0.0600 , 1.5707 )\n",
            "( 0.0700 , 1.6591 )\n",
            "( 0.0800 , 1.7457 )\n",
            "( 0.0900 , 1.8304 )\n",
            "( 0.1000 , 1.9134 )\n",
            "( 0.1100 , 1.9946 )\n",
            "( 0.1200 , 2.0740 )\n",
            "( 0.1300 , 2.1517 )\n",
            "( 0.1400 , 2.2277 )\n",
            "( 0.1500 , 2.3020 )\n",
            "( 0.1600 , 2.3746 )\n",
            "( 0.1700 , 2.4456 )\n",
            "( 0.1800 , 2.5150 )\n",
            "( 0.1900 , 2.5827 )\n",
            "( 0.2000 , 2.6489 )\n",
            "( 0.2100 , 2.7136 )\n",
            "( 0.2200 , 2.7767 )\n",
            "( 0.2300 , 2.8383 )\n",
            "( 0.2400 , 2.8984 )\n",
            "( 0.2500 , 2.9570 )\n",
            "( 0.2600 , 3.0142 )\n",
            "( 0.2700 , 3.0699 )\n",
            "( 0.2800 , 3.1243 )\n",
            "( 0.2900 , 3.1773 )\n",
            "( 0.3000 , 3.2289 )\n",
            "( 0.3100 , 3.2791 )\n",
            "( 0.3200 , 3.3281 )\n",
            "( 0.3300 , 3.3757 )\n",
            "( 0.3400 , 3.4221 )\n",
            "( 0.3500 , 3.4671 )\n",
            "( 0.3600 , 3.5110 )\n",
            "( 0.3700 , 3.5536 )\n",
            "( 0.3800 , 3.5950 )\n",
            "( 0.3900 , 3.6352 )\n",
            "( 0.4000 , 3.6743 )\n",
            "( 0.4100 , 3.7122 )\n",
            "( 0.4200 , 3.7490 )\n",
            "( 0.4300 , 3.7847 )\n",
            "( 0.4400 , 3.8193 )\n",
            "( 0.4500 , 3.8528 )\n",
            "( 0.4600 , 3.8853 )\n",
            "( 0.4700 , 3.9168 )\n",
            "( 0.4800 , 3.9472 )\n",
            "( 0.4900 , 3.9766 )\n",
            "( 0.5000 , 4.0051 )\n",
            "ค่าประมาณผลเฉลย yo = 4.0051\n"
          ]
        }
      ],
      "source": [
        "\"\"\"\n",
        "ตอนที่ 59 โปรแกรมคอมพิวเตอร์สำหรับระเบียบวิธีออยเลอร์\n",
        "https://trinket.io/python/f0105c42a4\n",
        "\n",
        "\"\"\"\n",
        "\n",
        "def euler_ivp(f, t0, y0, h, t):\n",
        "  \"\"\"\n",
        "  Parameters\n",
        "  ----------\n",
        "  f  : function\n",
        "  t0 : float :  initial value\n",
        "  y0 : float :  initial value\n",
        "  h  : float :  step size\n",
        "  x  : float\n",
        "\n",
        "  Returns\n",
        "  -------\n",
        "  float : solution at t\n",
        "  \"\"\"\n",
        "  for i in range(int(round((t-t0)/h))):\n",
        "    y0 += f(t0, y0) * h\n",
        "    t0 += h\n",
        "    #print(\"y(%d) = y(%d) + f(%f , %f) * %f\"%(i+1,i,t0,y0,h))\n",
        "    print(\"( %.4f , %.4f )\"%(t0,y0))\n",
        "  return y0\n",
        "\n",
        "if __name__ == \"__main__\":\n",
        "\n",
        "  f = lambda t, y : -2*t**3 + 12*t**2 - 20*t + 10\n",
        "  #print(\"y(i+1) = y(i) + f(t(i)   ,   y(i)) * h เมื่อ i = 0,1,2,...\")\n",
        "  print(\"ค่าประมาณผลเฉลย yo = %.4f\"%(euler_ivp(f, 0, 1.0, 0.1, 0.5)))\n",
        "  #print(\"ค่าประมาณผลเฉลย yo = %.4f\"%(euler_ivp(f, 0, 1.0, 0.01, 0.5)))"
      ]
    },
    {
      "cell_type": "code",
      "source": [
        "\"\"\"\n",
        "ตอนที่ 62 โปรแกรมคอมพิวเตอร์สำหรับระเบียบวิธีอันดับสอง\n",
        "https://trinket.io/python/3ac15ad1fc\n",
        "\n",
        "\"\"\"\n",
        "def huen(f, t0, y0, h, t):   # Modified Euler Method\n",
        "  \"\"\"\n",
        "  Parameters\n",
        "  ----------\n",
        "  f  : function\n",
        "  t0 : float :  initial value\n",
        "  y0 : float :  initial value\n",
        "  h  : float :  step size\n",
        "  t  : float\n",
        "\n",
        "  Returns\n",
        "  -------\n",
        "  float : y0 at t\n",
        "  \"\"\"\n",
        "  for i in range(int(round((t-t0)/h))):\n",
        "    k1 = f(t0, y0)\n",
        "    k2 = f(t0 + h, y0 + k1*h)\n",
        "\n",
        "    t0 += h\n",
        "    y0 += (0.5*k1 + 0.5*k2)*h\n",
        "    print(\"( %f, %f )\"%(t0,y0))\n",
        "  return y0\n",
        "\n",
        "def midpoint(f, t0, y0, h, t):\n",
        "  \"\"\"\n",
        "  Parameters\n",
        "  ----------\n",
        "  f  : function\n",
        "  t0 : float :  initial value\n",
        "  y0 : float :  initial value\n",
        "  h  : float :  step size\n",
        "  t  : float\n",
        "\n",
        "  Returns\n",
        "  -------\n",
        "  float : y0 at t\n",
        "  \"\"\"\n",
        "  for i in range(int(round((t-t0)/h))):\n",
        "    k1 = f(t0, y0)\n",
        "    k2 = f(t0 + 0.5*h, y0 + 0.5*k1*h)\n",
        "\n",
        "    t0 += h\n",
        "    y0 += k2*h\n",
        "    print(\"( %f, %f )\"%(t0,y0))\n",
        "\n",
        "  return y0\n",
        "\n",
        "if __name__ == \"__main__\":\n",
        "  f = lambda t, y : -2*t**3 + 12*t**2 - 20*t + 10\n",
        "  print(huen(f, 0, 1.0, 0.1, 0.5))\n",
        "  #print(midpoint(f, 0, 1, 0.5, 4))\n",
        "\n",
        "# runge-kutta order 2"
      ],
      "metadata": {
        "colab": {
          "base_uri": "https://localhost:8080/"
        },
        "id": "ZmB_2Nz9UupH",
        "outputId": "94da808b-bab9-4ea5-8645-7df0afd8c168"
      },
      "execution_count": 19,
      "outputs": [
        {
          "output_type": "stream",
          "name": "stdout",
          "text": [
            "( 0.100000, 1.905900 )\n",
            "( 0.200000, 2.635000 )\n",
            "( 0.300000, 3.209500 )\n",
            "( 0.400000, 3.650400 )\n",
            "( 0.500000, 3.977500 )\n",
            "3.9775000000000005\n"
          ]
        }
      ]
    }
  ]
}