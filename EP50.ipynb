{
  "nbformat": 4,
  "nbformat_minor": 0,
  "metadata": {
    "colab": {
      "name": "EP50.ipynb",
      "provenance": [],
      "authorship_tag": "ABX9TyP1h/J6hDdhfq/spafQXR5h",
      "include_colab_link": true
    },
    "kernelspec": {
      "name": "python3",
      "display_name": "Python 3"
    },
    "language_info": {
      "name": "python"
    }
  },
  "cells": [
    {
      "cell_type": "markdown",
      "metadata": {
        "id": "view-in-github",
        "colab_type": "text"
      },
      "source": [
        "<a href=\"https://colab.research.google.com/github/rsurapol/Python-for-Numerical-Methods-for-Engineer/blob/master/EP50.ipynb\" target=\"_parent\"><img src=\"https://colab.research.google.com/assets/colab-badge.svg\" alt=\"Open In Colab\"/></a>"
      ]
    },
    {
      "cell_type": "code",
      "execution_count": null,
      "metadata": {
        "id": "386tNq_-lWss"
      },
      "outputs": [],
      "source": [
        "\"\"\"\n",
        "ตอนที่ 50 โปรแกรมคอมพิวเตอร์สำหรับการประมาณค่าอนุพันธ์อันดับหนึ่งและอันดับสอง\n",
        "https://trinket.io/python/c63ee93205\n",
        "\n",
        "\"\"\"\n",
        "\n",
        "def forward_difference(f, x, h):\n",
        "  '''\n",
        "  Parameters\n",
        "  ----------\n",
        "  f : function\n",
        "  x : number\n",
        "  h : number\n",
        "  \n",
        "  Returns\n",
        "  -------  \n",
        "  number \n",
        "  '''\n",
        "  return (f(x+h) - f(x)) / h\n",
        "\n",
        "def backward_difference(f, x, h):\n",
        "  '''\n",
        "  Parameters\n",
        "  ----------\n",
        "  f : function\n",
        "  x : number\n",
        "  h : number\n",
        "  \n",
        "  Returns\n",
        "  -------  \n",
        "  number \n",
        "  '''\n",
        "  return (f(x) - f(x-h)) / h\n",
        "\n",
        "def central_difference(f, x, h):\n",
        "  '''\n",
        "  Parameters\n",
        "  ----------\n",
        "  f : function\n",
        "  x : number\n",
        "  h : number\n",
        "  \n",
        "  Returns\n",
        "  -------  \n",
        "  number \n",
        "  '''\n",
        "  return (f(x+h) - f(x-h)) / (2*h)\n",
        "\n",
        "\n",
        "if __name__ == '__main__':\n",
        "  from math import sin\n",
        "  f = lambda x : x * sin(x)\n",
        "  print(forward_difference (f, 6, 0.2))\n",
        "  print(backward_difference(f, 6, 0.2))\n",
        "  print(central_difference (f, 6, 0.2))\n",
        "\n",
        "# author: Worasait Suwannik\n",
        "# date: aug 2015\n",
        "# Rewrite: Surapol Rochanapratishtha\n",
        "# Date: May 2022"
      ]
    }
  ]
}