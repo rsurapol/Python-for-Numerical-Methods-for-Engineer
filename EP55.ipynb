{
  "nbformat": 4,
  "nbformat_minor": 0,
  "metadata": {
    "colab": {
      "name": "EP55.ipynb",
      "provenance": [],
      "authorship_tag": "ABX9TyM463F/N8lfPXRCjJ014tLi",
      "include_colab_link": true
    },
    "kernelspec": {
      "name": "python3",
      "display_name": "Python 3"
    },
    "language_info": {
      "name": "python"
    }
  },
  "cells": [
    {
      "cell_type": "markdown",
      "metadata": {
        "id": "view-in-github",
        "colab_type": "text"
      },
      "source": [
        "<a href=\"https://colab.research.google.com/github/rsurapol/Python-for-Numerical-Methods-for-Engineer/blob/master/EP55.ipynb\" target=\"_parent\"><img src=\"https://colab.research.google.com/assets/colab-badge.svg\" alt=\"Open In Colab\"/></a>"
      ]
    },
    {
      "cell_type": "code",
      "execution_count": null,
      "metadata": {
        "id": "0UeRfixmoMQX"
      },
      "outputs": [],
      "source": [
        "\"\"\"\n",
        "ตอนที่ 55 การเขียนโปรแกรมคอมพิวเตอร์ของระเบียบวิธีเกาส์ ควอดราเจอร์\n",
        "https://trinket.io/python/b3eff4e8f3\n",
        "\n",
        "\"\"\"\n",
        "\n",
        "from math import sqrt,sin,cos\n",
        "\n",
        "gq = [[],[],\n",
        "      [(-sqrt(1/3), 1), \n",
        "       ( sqrt(1/3), 1)],\n",
        "      [(-sqrt(3/5), 5/9), \n",
        "       ( sqrt(3/5), 5/9), \n",
        "       ( 0,         8/9)],\n",
        "      [(-sqrt(3/7-sqrt(6/5)*2/7), (18+sqrt(30))/36), \n",
        "       ( sqrt(3/7-sqrt(6/5)*2/7), (18+sqrt(30))/36), \n",
        "       (-sqrt(3/7+sqrt(6/5)*2/7), (18-sqrt(30))/36),\n",
        "       ( sqrt(3/7+sqrt(6/5)*2/7), (18-sqrt(30))/36)],\n",
        "      [(-sqrt(5-2*sqrt(10/7))/3, (322+13*sqrt(70))/900),\n",
        "       ( sqrt(5-2*sqrt(10/7))/3, (322+13*sqrt(70))/900),\n",
        "       (-sqrt(5+2*sqrt(10/7))/3, (322-13*sqrt(70))/900),\n",
        "       ( sqrt(5+2*sqrt(10/7))/3, (322-13*sqrt(70))/900), \n",
        "       ( 0,                      128/225)]\n",
        "          ]\n",
        "for i in range(len(gq)):\n",
        "  gq[i].sort(key=lambda x : x[0])\n",
        "\n",
        "def gaussian_quadrature(f, a, b, n=5):\n",
        "  '''\n",
        "  Parameters\n",
        "  ----------\n",
        "  f : function\n",
        "  a : number : start\n",
        "  b : number : stop\n",
        "  n : int   \n",
        "\n",
        "  Returns\n",
        "  -------  \n",
        "  float\n",
        "  '''\n",
        "  g = lambda t : ((b-a)*t+b+a)/2\n",
        "  return sum(w*f(g(p)) for (p,w) in gq[n]) * (b-a)/2\n",
        "\n",
        "if __name__ == '__main__':\n",
        " \n",
        "  f = lambda x : x*cos(x)\n",
        "  print(\"\\n\\n\")\n",
        "  print(gaussian_quadrature(f, -3, 2, 5)) #exact value approx. 1.9691\n",
        "\"\"\"\n",
        "  f = lambda x : x*sin(x)\n",
        "  print(gaussian_quadrature(f, 0, 2, 5))\n",
        "\"\"\"\n",
        "# author: Worasait Suwannik\n",
        "# date: May 2015\n",
        "# Rewrite: Surapol Rochanapratishtha\n",
        "# Date: May 2022"
      ]
    }
  ]
}